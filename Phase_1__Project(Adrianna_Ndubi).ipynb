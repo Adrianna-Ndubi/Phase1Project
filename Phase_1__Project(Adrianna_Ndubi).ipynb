{
  "nbformat": 4,
  "nbformat_minor": 0,
  "metadata": {
    "colab": {
      "provenance": []
    },
    "kernelspec": {
      "name": "python3",
      "display_name": "Python 3"
    },
    "language_info": {
      "name": "python"
    }
  },
  "cells": [
    {
      "cell_type": "markdown",
      "source": [
        "### **1. Business Understanding**\n",
        "The first step is to provide a clear business understanding and project goal. This section is key to framing the problem and setting the objectives for the analysis."
      ],
      "metadata": {
        "id": "GIzWrLYqkp5G"
      }
    },
    {
      "cell_type": "markdown",
      "source": [
        "# Aviation Accident Data Analysis\n",
        "\n",
        "## Business Understanding\n",
        "\n",
        "Our company needs to minimize risks when purchasing aircraft. To aid in decision-making, we will analyze historical aviation accident data to identify trends and factors contributing to accidents. By doing so, we aim to answer the following questions:\n",
        "- Which aircraft models have the highest and lowest accident rates?\n",
        "- What are the common causes of accidents (e.g., weather, aircraft age, make)?\n",
        "- How can we mitigate risks when making future purchases?\n"
      ],
      "metadata": {
        "id": "X3z0C5N_-8aX"
      }
    },
    {
      "cell_type": "markdown",
      "source": [
        "#### **2. Data Understanding**\n",
        "Next, explain the dataset, its source, and a brief description of key variables. Then, load the dataset and perform an initial inspection."
      ],
      "metadata": {
        "id": "U5HM7BfllsLb"
      }
    },
    {
      "cell_type": "markdown",
      "source": [
        "## Data Understanding\n",
        "\n",
        "The dataset used for this analysis comes from the National Transportation Safety Board (NTSB) and includes records of aviation accidents between 1962 and 2023. It contains the following key variables:\n",
        "- `accident_date`: Date of the accident.\n",
        "- `aircraft_type`: Type of aircraft involved.\n",
        "- `Make`: Manufacturer of the aircraft.\n",
        "- `Accident.Type`: Number of fatalities in the accident.\n",
        "- `weather_conditions`: Weather conditions during the accident.\n",
        "- `damage_cost`: Estimated cost of damages.\n",
        "\n",
        "Let's begin by loading and inspecting the dataset.\n"
      ],
      "metadata": {
        "id": "byaN6OCx_0Jo"
      }
    },
    {
      "cell_type": "code",
      "execution_count": 5,
      "metadata": {
        "id": "SxMdisnfkdes"
      },
      "outputs": [],
      "source": [
        "# Load required libraries\n",
        "import pandas as pd\n",
        "import numpy as np\n",
        "import matplotlib.pyplot as plt\n",
        "import seaborn as sns\n"
      ]
    },
    {
      "cell_type": "code",
      "source": [
        "# Load the dataset\n",
        "# Skip the bad lines (without raising an error)\n",
        "df = pd.read_csv('AviationData.csv', on_bad_lines='skip', encoding='ISO-8859-1')"
      ],
      "metadata": {
        "colab": {
          "base_uri": "https://localhost:8080/"
        },
        "id": "MMHCRlIpm5jA",
        "outputId": "25f01901-505a-4304-ec71-53a664ff5499"
      },
      "execution_count": 6,
      "outputs": [
        {
          "output_type": "stream",
          "name": "stderr",
          "text": [
            "<ipython-input-6-362ec400bffb>:3: DtypeWarning: Columns (6,7,28) have mixed types. Specify dtype option on import or set low_memory=False.\n",
            "  df = pd.read_csv('AviationData.csv', on_bad_lines='skip', encoding='ISO-8859-1')\n"
          ]
        }
      ]
    },
    {
      "cell_type": "markdown",
      "source": [
        "\n",
        "## **2.1. Initial Data Exploration**\n",
        "Basic information about the dataset"
      ],
      "metadata": {
        "id": "_XmRCIr-qX6F"
      }
    },
    {
      "cell_type": "code",
      "source": [
        "# Display the first few rows\n",
        "df.head()"
      ],
      "metadata": {
        "colab": {
          "base_uri": "https://localhost:8080/",
          "height": 342
        },
        "id": "CXVluRtyqMh-",
        "outputId": "c9fe3b09-d33e-4204-b04c-878bea820e96"
      },
      "execution_count": 7,
      "outputs": [
        {
          "output_type": "execute_result",
          "data": {
            "text/plain": [
              "         Event.Id Investigation.Type Accident.Number  Event.Date  \\\n",
              "0  20001218X45444           Accident      SEA87LA080  24/10/1948   \n",
              "1  20001218X45447           Accident      LAX94LA336  19/07/1962   \n",
              "2  20061025X01555           Accident      NYC07LA005  30/08/1974   \n",
              "3  20001218X45448           Accident      LAX96LA321  19/06/1977   \n",
              "4  20041105X01764           Accident      CHI79FA064  02/08/1979   \n",
              "\n",
              "          Location        Country   Latitude  Longitude Airport.Code  \\\n",
              "0  MOOSE CREEK, ID  United States        NaN        NaN          NaN   \n",
              "1   BRIDGEPORT, CA  United States        NaN        NaN          NaN   \n",
              "2    Saltville, VA  United States  36.922223 -81.878056          NaN   \n",
              "3       EUREKA, CA  United States        NaN        NaN          NaN   \n",
              "4       Canton, OH  United States        NaN        NaN          NaN   \n",
              "\n",
              "  Airport.Name  ... Purpose.of.flight Air.carrier Total.Fatal.Injuries  \\\n",
              "0          NaN  ...          Personal         NaN                  2.0   \n",
              "1          NaN  ...          Personal         NaN                  4.0   \n",
              "2          NaN  ...          Personal         NaN                  3.0   \n",
              "3          NaN  ...          Personal         NaN                  2.0   \n",
              "4          NaN  ...          Personal         NaN                  1.0   \n",
              "\n",
              "  Total.Serious.Injuries Total.Minor.Injuries Total.Uninjured  \\\n",
              "0                    0.0                  0.0             0.0   \n",
              "1                    0.0                  0.0             0.0   \n",
              "2                    NaN                  NaN             NaN   \n",
              "3                    0.0                  0.0             0.0   \n",
              "4                    2.0                  NaN             0.0   \n",
              "\n",
              "  Weather.Condition  Broad.phase.of.flight   Report.Status Publication.Date  \n",
              "0               UNK                 Cruise  Probable Cause              NaN  \n",
              "1               UNK                Unknown  Probable Cause       19/09/1996  \n",
              "2               IMC                 Cruise  Probable Cause       26/02/2007  \n",
              "3               IMC                 Cruise  Probable Cause       12/09/2000  \n",
              "4               VMC               Approach  Probable Cause       16/04/1980  \n",
              "\n",
              "[5 rows x 31 columns]"
            ],
            "text/html": [
              "\n",
              "  <div id=\"df-5d154811-5d70-40e4-8fff-b20083fdada5\" class=\"colab-df-container\">\n",
              "    <div>\n",
              "<style scoped>\n",
              "    .dataframe tbody tr th:only-of-type {\n",
              "        vertical-align: middle;\n",
              "    }\n",
              "\n",
              "    .dataframe tbody tr th {\n",
              "        vertical-align: top;\n",
              "    }\n",
              "\n",
              "    .dataframe thead th {\n",
              "        text-align: right;\n",
              "    }\n",
              "</style>\n",
              "<table border=\"1\" class=\"dataframe\">\n",
              "  <thead>\n",
              "    <tr style=\"text-align: right;\">\n",
              "      <th></th>\n",
              "      <th>Event.Id</th>\n",
              "      <th>Investigation.Type</th>\n",
              "      <th>Accident.Number</th>\n",
              "      <th>Event.Date</th>\n",
              "      <th>Location</th>\n",
              "      <th>Country</th>\n",
              "      <th>Latitude</th>\n",
              "      <th>Longitude</th>\n",
              "      <th>Airport.Code</th>\n",
              "      <th>Airport.Name</th>\n",
              "      <th>...</th>\n",
              "      <th>Purpose.of.flight</th>\n",
              "      <th>Air.carrier</th>\n",
              "      <th>Total.Fatal.Injuries</th>\n",
              "      <th>Total.Serious.Injuries</th>\n",
              "      <th>Total.Minor.Injuries</th>\n",
              "      <th>Total.Uninjured</th>\n",
              "      <th>Weather.Condition</th>\n",
              "      <th>Broad.phase.of.flight</th>\n",
              "      <th>Report.Status</th>\n",
              "      <th>Publication.Date</th>\n",
              "    </tr>\n",
              "  </thead>\n",
              "  <tbody>\n",
              "    <tr>\n",
              "      <th>0</th>\n",
              "      <td>20001218X45444</td>\n",
              "      <td>Accident</td>\n",
              "      <td>SEA87LA080</td>\n",
              "      <td>24/10/1948</td>\n",
              "      <td>MOOSE CREEK, ID</td>\n",
              "      <td>United States</td>\n",
              "      <td>NaN</td>\n",
              "      <td>NaN</td>\n",
              "      <td>NaN</td>\n",
              "      <td>NaN</td>\n",
              "      <td>...</td>\n",
              "      <td>Personal</td>\n",
              "      <td>NaN</td>\n",
              "      <td>2.0</td>\n",
              "      <td>0.0</td>\n",
              "      <td>0.0</td>\n",
              "      <td>0.0</td>\n",
              "      <td>UNK</td>\n",
              "      <td>Cruise</td>\n",
              "      <td>Probable Cause</td>\n",
              "      <td>NaN</td>\n",
              "    </tr>\n",
              "    <tr>\n",
              "      <th>1</th>\n",
              "      <td>20001218X45447</td>\n",
              "      <td>Accident</td>\n",
              "      <td>LAX94LA336</td>\n",
              "      <td>19/07/1962</td>\n",
              "      <td>BRIDGEPORT, CA</td>\n",
              "      <td>United States</td>\n",
              "      <td>NaN</td>\n",
              "      <td>NaN</td>\n",
              "      <td>NaN</td>\n",
              "      <td>NaN</td>\n",
              "      <td>...</td>\n",
              "      <td>Personal</td>\n",
              "      <td>NaN</td>\n",
              "      <td>4.0</td>\n",
              "      <td>0.0</td>\n",
              "      <td>0.0</td>\n",
              "      <td>0.0</td>\n",
              "      <td>UNK</td>\n",
              "      <td>Unknown</td>\n",
              "      <td>Probable Cause</td>\n",
              "      <td>19/09/1996</td>\n",
              "    </tr>\n",
              "    <tr>\n",
              "      <th>2</th>\n",
              "      <td>20061025X01555</td>\n",
              "      <td>Accident</td>\n",
              "      <td>NYC07LA005</td>\n",
              "      <td>30/08/1974</td>\n",
              "      <td>Saltville, VA</td>\n",
              "      <td>United States</td>\n",
              "      <td>36.922223</td>\n",
              "      <td>-81.878056</td>\n",
              "      <td>NaN</td>\n",
              "      <td>NaN</td>\n",
              "      <td>...</td>\n",
              "      <td>Personal</td>\n",
              "      <td>NaN</td>\n",
              "      <td>3.0</td>\n",
              "      <td>NaN</td>\n",
              "      <td>NaN</td>\n",
              "      <td>NaN</td>\n",
              "      <td>IMC</td>\n",
              "      <td>Cruise</td>\n",
              "      <td>Probable Cause</td>\n",
              "      <td>26/02/2007</td>\n",
              "    </tr>\n",
              "    <tr>\n",
              "      <th>3</th>\n",
              "      <td>20001218X45448</td>\n",
              "      <td>Accident</td>\n",
              "      <td>LAX96LA321</td>\n",
              "      <td>19/06/1977</td>\n",
              "      <td>EUREKA, CA</td>\n",
              "      <td>United States</td>\n",
              "      <td>NaN</td>\n",
              "      <td>NaN</td>\n",
              "      <td>NaN</td>\n",
              "      <td>NaN</td>\n",
              "      <td>...</td>\n",
              "      <td>Personal</td>\n",
              "      <td>NaN</td>\n",
              "      <td>2.0</td>\n",
              "      <td>0.0</td>\n",
              "      <td>0.0</td>\n",
              "      <td>0.0</td>\n",
              "      <td>IMC</td>\n",
              "      <td>Cruise</td>\n",
              "      <td>Probable Cause</td>\n",
              "      <td>12/09/2000</td>\n",
              "    </tr>\n",
              "    <tr>\n",
              "      <th>4</th>\n",
              "      <td>20041105X01764</td>\n",
              "      <td>Accident</td>\n",
              "      <td>CHI79FA064</td>\n",
              "      <td>02/08/1979</td>\n",
              "      <td>Canton, OH</td>\n",
              "      <td>United States</td>\n",
              "      <td>NaN</td>\n",
              "      <td>NaN</td>\n",
              "      <td>NaN</td>\n",
              "      <td>NaN</td>\n",
              "      <td>...</td>\n",
              "      <td>Personal</td>\n",
              "      <td>NaN</td>\n",
              "      <td>1.0</td>\n",
              "      <td>2.0</td>\n",
              "      <td>NaN</td>\n",
              "      <td>0.0</td>\n",
              "      <td>VMC</td>\n",
              "      <td>Approach</td>\n",
              "      <td>Probable Cause</td>\n",
              "      <td>16/04/1980</td>\n",
              "    </tr>\n",
              "  </tbody>\n",
              "</table>\n",
              "<p>5 rows × 31 columns</p>\n",
              "</div>\n",
              "    <div class=\"colab-df-buttons\">\n",
              "\n",
              "  <div class=\"colab-df-container\">\n",
              "    <button class=\"colab-df-convert\" onclick=\"convertToInteractive('df-5d154811-5d70-40e4-8fff-b20083fdada5')\"\n",
              "            title=\"Convert this dataframe to an interactive table.\"\n",
              "            style=\"display:none;\">\n",
              "\n",
              "  <svg xmlns=\"http://www.w3.org/2000/svg\" height=\"24px\" viewBox=\"0 -960 960 960\">\n",
              "    <path d=\"M120-120v-720h720v720H120Zm60-500h600v-160H180v160Zm220 220h160v-160H400v160Zm0 220h160v-160H400v160ZM180-400h160v-160H180v160Zm440 0h160v-160H620v160ZM180-180h160v-160H180v160Zm440 0h160v-160H620v160Z\"/>\n",
              "  </svg>\n",
              "    </button>\n",
              "\n",
              "  <style>\n",
              "    .colab-df-container {\n",
              "      display:flex;\n",
              "      gap: 12px;\n",
              "    }\n",
              "\n",
              "    .colab-df-convert {\n",
              "      background-color: #E8F0FE;\n",
              "      border: none;\n",
              "      border-radius: 50%;\n",
              "      cursor: pointer;\n",
              "      display: none;\n",
              "      fill: #1967D2;\n",
              "      height: 32px;\n",
              "      padding: 0 0 0 0;\n",
              "      width: 32px;\n",
              "    }\n",
              "\n",
              "    .colab-df-convert:hover {\n",
              "      background-color: #E2EBFA;\n",
              "      box-shadow: 0px 1px 2px rgba(60, 64, 67, 0.3), 0px 1px 3px 1px rgba(60, 64, 67, 0.15);\n",
              "      fill: #174EA6;\n",
              "    }\n",
              "\n",
              "    .colab-df-buttons div {\n",
              "      margin-bottom: 4px;\n",
              "    }\n",
              "\n",
              "    [theme=dark] .colab-df-convert {\n",
              "      background-color: #3B4455;\n",
              "      fill: #D2E3FC;\n",
              "    }\n",
              "\n",
              "    [theme=dark] .colab-df-convert:hover {\n",
              "      background-color: #434B5C;\n",
              "      box-shadow: 0px 1px 3px 1px rgba(0, 0, 0, 0.15);\n",
              "      filter: drop-shadow(0px 1px 2px rgba(0, 0, 0, 0.3));\n",
              "      fill: #FFFFFF;\n",
              "    }\n",
              "  </style>\n",
              "\n",
              "    <script>\n",
              "      const buttonEl =\n",
              "        document.querySelector('#df-5d154811-5d70-40e4-8fff-b20083fdada5 button.colab-df-convert');\n",
              "      buttonEl.style.display =\n",
              "        google.colab.kernel.accessAllowed ? 'block' : 'none';\n",
              "\n",
              "      async function convertToInteractive(key) {\n",
              "        const element = document.querySelector('#df-5d154811-5d70-40e4-8fff-b20083fdada5');\n",
              "        const dataTable =\n",
              "          await google.colab.kernel.invokeFunction('convertToInteractive',\n",
              "                                                    [key], {});\n",
              "        if (!dataTable) return;\n",
              "\n",
              "        const docLinkHtml = 'Like what you see? Visit the ' +\n",
              "          '<a target=\"_blank\" href=https://colab.research.google.com/notebooks/data_table.ipynb>data table notebook</a>'\n",
              "          + ' to learn more about interactive tables.';\n",
              "        element.innerHTML = '';\n",
              "        dataTable['output_type'] = 'display_data';\n",
              "        await google.colab.output.renderOutput(dataTable, element);\n",
              "        const docLink = document.createElement('div');\n",
              "        docLink.innerHTML = docLinkHtml;\n",
              "        element.appendChild(docLink);\n",
              "      }\n",
              "    </script>\n",
              "  </div>\n",
              "\n",
              "\n",
              "<div id=\"df-7cc0cb50-ce93-495a-a6ee-fe4e3c00350b\">\n",
              "  <button class=\"colab-df-quickchart\" onclick=\"quickchart('df-7cc0cb50-ce93-495a-a6ee-fe4e3c00350b')\"\n",
              "            title=\"Suggest charts\"\n",
              "            style=\"display:none;\">\n",
              "\n",
              "<svg xmlns=\"http://www.w3.org/2000/svg\" height=\"24px\"viewBox=\"0 0 24 24\"\n",
              "     width=\"24px\">\n",
              "    <g>\n",
              "        <path d=\"M19 3H5c-1.1 0-2 .9-2 2v14c0 1.1.9 2 2 2h14c1.1 0 2-.9 2-2V5c0-1.1-.9-2-2-2zM9 17H7v-7h2v7zm4 0h-2V7h2v10zm4 0h-2v-4h2v4z\"/>\n",
              "    </g>\n",
              "</svg>\n",
              "  </button>\n",
              "\n",
              "<style>\n",
              "  .colab-df-quickchart {\n",
              "      --bg-color: #E8F0FE;\n",
              "      --fill-color: #1967D2;\n",
              "      --hover-bg-color: #E2EBFA;\n",
              "      --hover-fill-color: #174EA6;\n",
              "      --disabled-fill-color: #AAA;\n",
              "      --disabled-bg-color: #DDD;\n",
              "  }\n",
              "\n",
              "  [theme=dark] .colab-df-quickchart {\n",
              "      --bg-color: #3B4455;\n",
              "      --fill-color: #D2E3FC;\n",
              "      --hover-bg-color: #434B5C;\n",
              "      --hover-fill-color: #FFFFFF;\n",
              "      --disabled-bg-color: #3B4455;\n",
              "      --disabled-fill-color: #666;\n",
              "  }\n",
              "\n",
              "  .colab-df-quickchart {\n",
              "    background-color: var(--bg-color);\n",
              "    border: none;\n",
              "    border-radius: 50%;\n",
              "    cursor: pointer;\n",
              "    display: none;\n",
              "    fill: var(--fill-color);\n",
              "    height: 32px;\n",
              "    padding: 0;\n",
              "    width: 32px;\n",
              "  }\n",
              "\n",
              "  .colab-df-quickchart:hover {\n",
              "    background-color: var(--hover-bg-color);\n",
              "    box-shadow: 0 1px 2px rgba(60, 64, 67, 0.3), 0 1px 3px 1px rgba(60, 64, 67, 0.15);\n",
              "    fill: var(--button-hover-fill-color);\n",
              "  }\n",
              "\n",
              "  .colab-df-quickchart-complete:disabled,\n",
              "  .colab-df-quickchart-complete:disabled:hover {\n",
              "    background-color: var(--disabled-bg-color);\n",
              "    fill: var(--disabled-fill-color);\n",
              "    box-shadow: none;\n",
              "  }\n",
              "\n",
              "  .colab-df-spinner {\n",
              "    border: 2px solid var(--fill-color);\n",
              "    border-color: transparent;\n",
              "    border-bottom-color: var(--fill-color);\n",
              "    animation:\n",
              "      spin 1s steps(1) infinite;\n",
              "  }\n",
              "\n",
              "  @keyframes spin {\n",
              "    0% {\n",
              "      border-color: transparent;\n",
              "      border-bottom-color: var(--fill-color);\n",
              "      border-left-color: var(--fill-color);\n",
              "    }\n",
              "    20% {\n",
              "      border-color: transparent;\n",
              "      border-left-color: var(--fill-color);\n",
              "      border-top-color: var(--fill-color);\n",
              "    }\n",
              "    30% {\n",
              "      border-color: transparent;\n",
              "      border-left-color: var(--fill-color);\n",
              "      border-top-color: var(--fill-color);\n",
              "      border-right-color: var(--fill-color);\n",
              "    }\n",
              "    40% {\n",
              "      border-color: transparent;\n",
              "      border-right-color: var(--fill-color);\n",
              "      border-top-color: var(--fill-color);\n",
              "    }\n",
              "    60% {\n",
              "      border-color: transparent;\n",
              "      border-right-color: var(--fill-color);\n",
              "    }\n",
              "    80% {\n",
              "      border-color: transparent;\n",
              "      border-right-color: var(--fill-color);\n",
              "      border-bottom-color: var(--fill-color);\n",
              "    }\n",
              "    90% {\n",
              "      border-color: transparent;\n",
              "      border-bottom-color: var(--fill-color);\n",
              "    }\n",
              "  }\n",
              "</style>\n",
              "\n",
              "  <script>\n",
              "    async function quickchart(key) {\n",
              "      const quickchartButtonEl =\n",
              "        document.querySelector('#' + key + ' button');\n",
              "      quickchartButtonEl.disabled = true;  // To prevent multiple clicks.\n",
              "      quickchartButtonEl.classList.add('colab-df-spinner');\n",
              "      try {\n",
              "        const charts = await google.colab.kernel.invokeFunction(\n",
              "            'suggestCharts', [key], {});\n",
              "      } catch (error) {\n",
              "        console.error('Error during call to suggestCharts:', error);\n",
              "      }\n",
              "      quickchartButtonEl.classList.remove('colab-df-spinner');\n",
              "      quickchartButtonEl.classList.add('colab-df-quickchart-complete');\n",
              "    }\n",
              "    (() => {\n",
              "      let quickchartButtonEl =\n",
              "        document.querySelector('#df-7cc0cb50-ce93-495a-a6ee-fe4e3c00350b button');\n",
              "      quickchartButtonEl.style.display =\n",
              "        google.colab.kernel.accessAllowed ? 'block' : 'none';\n",
              "    })();\n",
              "  </script>\n",
              "</div>\n",
              "\n",
              "    </div>\n",
              "  </div>\n"
            ],
            "application/vnd.google.colaboratory.intrinsic+json": {
              "type": "dataframe",
              "variable_name": "df"
            }
          },
          "metadata": {},
          "execution_count": 7
        }
      ]
    },
    {
      "cell_type": "code",
      "source": [
        "# Display basic info\n",
        "df.info()"
      ],
      "metadata": {
        "colab": {
          "base_uri": "https://localhost:8080/"
        },
        "id": "02b_nhIPqQe0",
        "outputId": "86547269-65b6-4843-e193-c5e084dbd7c4"
      },
      "execution_count": 8,
      "outputs": [
        {
          "output_type": "stream",
          "name": "stdout",
          "text": [
            "<class 'pandas.core.frame.DataFrame'>\n",
            "RangeIndex: 88889 entries, 0 to 88888\n",
            "Data columns (total 31 columns):\n",
            " #   Column                  Non-Null Count  Dtype  \n",
            "---  ------                  --------------  -----  \n",
            " 0   Event.Id                88889 non-null  object \n",
            " 1   Investigation.Type      88889 non-null  object \n",
            " 2   Accident.Number         88889 non-null  object \n",
            " 3   Event.Date              88889 non-null  object \n",
            " 4   Location                88837 non-null  object \n",
            " 5   Country                 88663 non-null  object \n",
            " 6   Latitude                34382 non-null  object \n",
            " 7   Longitude               34373 non-null  object \n",
            " 8   Airport.Code            50132 non-null  object \n",
            " 9   Airport.Name            52704 non-null  object \n",
            " 10  Injury.Severity         87889 non-null  object \n",
            " 11  Aircraft.damage         85695 non-null  object \n",
            " 12  Aircraft.Category       32287 non-null  object \n",
            " 13  Registration.Number     87507 non-null  object \n",
            " 14  Make                    88826 non-null  object \n",
            " 15  Model                   88797 non-null  object \n",
            " 16  Amateur.Built           88787 non-null  object \n",
            " 17  Number.of.Engines       82805 non-null  float64\n",
            " 18  Engine.Type             81793 non-null  object \n",
            " 19  FAR.Description         32023 non-null  object \n",
            " 20  Schedule                12582 non-null  object \n",
            " 21  Purpose.of.flight       82697 non-null  object \n",
            " 22  Air.carrier             16648 non-null  object \n",
            " 23  Total.Fatal.Injuries    77488 non-null  float64\n",
            " 24  Total.Serious.Injuries  76379 non-null  float64\n",
            " 25  Total.Minor.Injuries    76956 non-null  float64\n",
            " 26  Total.Uninjured         82977 non-null  float64\n",
            " 27  Weather.Condition       84397 non-null  object \n",
            " 28  Broad.phase.of.flight   61724 non-null  object \n",
            " 29  Report.Status           82505 non-null  object \n",
            " 30  Publication.Date        75118 non-null  object \n",
            "dtypes: float64(5), object(26)\n",
            "memory usage: 21.0+ MB\n"
          ]
        }
      ]
    },
    {
      "cell_type": "code",
      "source": [
        "# Summary statistics\n",
        "df.describe()"
      ],
      "metadata": {
        "colab": {
          "base_uri": "https://localhost:8080/",
          "height": 320
        },
        "id": "pgi3gMLzqhqR",
        "outputId": "16fb9c64-fa4e-4cb0-aa6d-ffeedf8cf470"
      },
      "execution_count": 9,
      "outputs": [
        {
          "output_type": "execute_result",
          "data": {
            "text/plain": [
              "       Number.of.Engines  Total.Fatal.Injuries  Total.Serious.Injuries  \\\n",
              "count       82805.000000          77488.000000            76379.000000   \n",
              "mean            1.146585              0.647855                0.279881   \n",
              "std             0.446510              5.485960                1.544084   \n",
              "min             0.000000              0.000000                0.000000   \n",
              "25%             1.000000              0.000000                0.000000   \n",
              "50%             1.000000              0.000000                0.000000   \n",
              "75%             1.000000              0.000000                0.000000   \n",
              "max             8.000000            349.000000              161.000000   \n",
              "\n",
              "       Total.Minor.Injuries  Total.Uninjured  \n",
              "count          76956.000000     82977.000000  \n",
              "mean               0.357061         5.325440  \n",
              "std                2.235625        27.913634  \n",
              "min                0.000000         0.000000  \n",
              "25%                0.000000         0.000000  \n",
              "50%                0.000000         1.000000  \n",
              "75%                0.000000         2.000000  \n",
              "max              380.000000       699.000000  "
            ],
            "text/html": [
              "\n",
              "  <div id=\"df-1aecaa11-58b9-4eec-a43d-a3c5e97bfd16\" class=\"colab-df-container\">\n",
              "    <div>\n",
              "<style scoped>\n",
              "    .dataframe tbody tr th:only-of-type {\n",
              "        vertical-align: middle;\n",
              "    }\n",
              "\n",
              "    .dataframe tbody tr th {\n",
              "        vertical-align: top;\n",
              "    }\n",
              "\n",
              "    .dataframe thead th {\n",
              "        text-align: right;\n",
              "    }\n",
              "</style>\n",
              "<table border=\"1\" class=\"dataframe\">\n",
              "  <thead>\n",
              "    <tr style=\"text-align: right;\">\n",
              "      <th></th>\n",
              "      <th>Number.of.Engines</th>\n",
              "      <th>Total.Fatal.Injuries</th>\n",
              "      <th>Total.Serious.Injuries</th>\n",
              "      <th>Total.Minor.Injuries</th>\n",
              "      <th>Total.Uninjured</th>\n",
              "    </tr>\n",
              "  </thead>\n",
              "  <tbody>\n",
              "    <tr>\n",
              "      <th>count</th>\n",
              "      <td>82805.000000</td>\n",
              "      <td>77488.000000</td>\n",
              "      <td>76379.000000</td>\n",
              "      <td>76956.000000</td>\n",
              "      <td>82977.000000</td>\n",
              "    </tr>\n",
              "    <tr>\n",
              "      <th>mean</th>\n",
              "      <td>1.146585</td>\n",
              "      <td>0.647855</td>\n",
              "      <td>0.279881</td>\n",
              "      <td>0.357061</td>\n",
              "      <td>5.325440</td>\n",
              "    </tr>\n",
              "    <tr>\n",
              "      <th>std</th>\n",
              "      <td>0.446510</td>\n",
              "      <td>5.485960</td>\n",
              "      <td>1.544084</td>\n",
              "      <td>2.235625</td>\n",
              "      <td>27.913634</td>\n",
              "    </tr>\n",
              "    <tr>\n",
              "      <th>min</th>\n",
              "      <td>0.000000</td>\n",
              "      <td>0.000000</td>\n",
              "      <td>0.000000</td>\n",
              "      <td>0.000000</td>\n",
              "      <td>0.000000</td>\n",
              "    </tr>\n",
              "    <tr>\n",
              "      <th>25%</th>\n",
              "      <td>1.000000</td>\n",
              "      <td>0.000000</td>\n",
              "      <td>0.000000</td>\n",
              "      <td>0.000000</td>\n",
              "      <td>0.000000</td>\n",
              "    </tr>\n",
              "    <tr>\n",
              "      <th>50%</th>\n",
              "      <td>1.000000</td>\n",
              "      <td>0.000000</td>\n",
              "      <td>0.000000</td>\n",
              "      <td>0.000000</td>\n",
              "      <td>1.000000</td>\n",
              "    </tr>\n",
              "    <tr>\n",
              "      <th>75%</th>\n",
              "      <td>1.000000</td>\n",
              "      <td>0.000000</td>\n",
              "      <td>0.000000</td>\n",
              "      <td>0.000000</td>\n",
              "      <td>2.000000</td>\n",
              "    </tr>\n",
              "    <tr>\n",
              "      <th>max</th>\n",
              "      <td>8.000000</td>\n",
              "      <td>349.000000</td>\n",
              "      <td>161.000000</td>\n",
              "      <td>380.000000</td>\n",
              "      <td>699.000000</td>\n",
              "    </tr>\n",
              "  </tbody>\n",
              "</table>\n",
              "</div>\n",
              "    <div class=\"colab-df-buttons\">\n",
              "\n",
              "  <div class=\"colab-df-container\">\n",
              "    <button class=\"colab-df-convert\" onclick=\"convertToInteractive('df-1aecaa11-58b9-4eec-a43d-a3c5e97bfd16')\"\n",
              "            title=\"Convert this dataframe to an interactive table.\"\n",
              "            style=\"display:none;\">\n",
              "\n",
              "  <svg xmlns=\"http://www.w3.org/2000/svg\" height=\"24px\" viewBox=\"0 -960 960 960\">\n",
              "    <path d=\"M120-120v-720h720v720H120Zm60-500h600v-160H180v160Zm220 220h160v-160H400v160Zm0 220h160v-160H400v160ZM180-400h160v-160H180v160Zm440 0h160v-160H620v160ZM180-180h160v-160H180v160Zm440 0h160v-160H620v160Z\"/>\n",
              "  </svg>\n",
              "    </button>\n",
              "\n",
              "  <style>\n",
              "    .colab-df-container {\n",
              "      display:flex;\n",
              "      gap: 12px;\n",
              "    }\n",
              "\n",
              "    .colab-df-convert {\n",
              "      background-color: #E8F0FE;\n",
              "      border: none;\n",
              "      border-radius: 50%;\n",
              "      cursor: pointer;\n",
              "      display: none;\n",
              "      fill: #1967D2;\n",
              "      height: 32px;\n",
              "      padding: 0 0 0 0;\n",
              "      width: 32px;\n",
              "    }\n",
              "\n",
              "    .colab-df-convert:hover {\n",
              "      background-color: #E2EBFA;\n",
              "      box-shadow: 0px 1px 2px rgba(60, 64, 67, 0.3), 0px 1px 3px 1px rgba(60, 64, 67, 0.15);\n",
              "      fill: #174EA6;\n",
              "    }\n",
              "\n",
              "    .colab-df-buttons div {\n",
              "      margin-bottom: 4px;\n",
              "    }\n",
              "\n",
              "    [theme=dark] .colab-df-convert {\n",
              "      background-color: #3B4455;\n",
              "      fill: #D2E3FC;\n",
              "    }\n",
              "\n",
              "    [theme=dark] .colab-df-convert:hover {\n",
              "      background-color: #434B5C;\n",
              "      box-shadow: 0px 1px 3px 1px rgba(0, 0, 0, 0.15);\n",
              "      filter: drop-shadow(0px 1px 2px rgba(0, 0, 0, 0.3));\n",
              "      fill: #FFFFFF;\n",
              "    }\n",
              "  </style>\n",
              "\n",
              "    <script>\n",
              "      const buttonEl =\n",
              "        document.querySelector('#df-1aecaa11-58b9-4eec-a43d-a3c5e97bfd16 button.colab-df-convert');\n",
              "      buttonEl.style.display =\n",
              "        google.colab.kernel.accessAllowed ? 'block' : 'none';\n",
              "\n",
              "      async function convertToInteractive(key) {\n",
              "        const element = document.querySelector('#df-1aecaa11-58b9-4eec-a43d-a3c5e97bfd16');\n",
              "        const dataTable =\n",
              "          await google.colab.kernel.invokeFunction('convertToInteractive',\n",
              "                                                    [key], {});\n",
              "        if (!dataTable) return;\n",
              "\n",
              "        const docLinkHtml = 'Like what you see? Visit the ' +\n",
              "          '<a target=\"_blank\" href=https://colab.research.google.com/notebooks/data_table.ipynb>data table notebook</a>'\n",
              "          + ' to learn more about interactive tables.';\n",
              "        element.innerHTML = '';\n",
              "        dataTable['output_type'] = 'display_data';\n",
              "        await google.colab.output.renderOutput(dataTable, element);\n",
              "        const docLink = document.createElement('div');\n",
              "        docLink.innerHTML = docLinkHtml;\n",
              "        element.appendChild(docLink);\n",
              "      }\n",
              "    </script>\n",
              "  </div>\n",
              "\n",
              "\n",
              "<div id=\"df-7cfb31d6-d9ab-465c-ab1d-487f6c7b25ee\">\n",
              "  <button class=\"colab-df-quickchart\" onclick=\"quickchart('df-7cfb31d6-d9ab-465c-ab1d-487f6c7b25ee')\"\n",
              "            title=\"Suggest charts\"\n",
              "            style=\"display:none;\">\n",
              "\n",
              "<svg xmlns=\"http://www.w3.org/2000/svg\" height=\"24px\"viewBox=\"0 0 24 24\"\n",
              "     width=\"24px\">\n",
              "    <g>\n",
              "        <path d=\"M19 3H5c-1.1 0-2 .9-2 2v14c0 1.1.9 2 2 2h14c1.1 0 2-.9 2-2V5c0-1.1-.9-2-2-2zM9 17H7v-7h2v7zm4 0h-2V7h2v10zm4 0h-2v-4h2v4z\"/>\n",
              "    </g>\n",
              "</svg>\n",
              "  </button>\n",
              "\n",
              "<style>\n",
              "  .colab-df-quickchart {\n",
              "      --bg-color: #E8F0FE;\n",
              "      --fill-color: #1967D2;\n",
              "      --hover-bg-color: #E2EBFA;\n",
              "      --hover-fill-color: #174EA6;\n",
              "      --disabled-fill-color: #AAA;\n",
              "      --disabled-bg-color: #DDD;\n",
              "  }\n",
              "\n",
              "  [theme=dark] .colab-df-quickchart {\n",
              "      --bg-color: #3B4455;\n",
              "      --fill-color: #D2E3FC;\n",
              "      --hover-bg-color: #434B5C;\n",
              "      --hover-fill-color: #FFFFFF;\n",
              "      --disabled-bg-color: #3B4455;\n",
              "      --disabled-fill-color: #666;\n",
              "  }\n",
              "\n",
              "  .colab-df-quickchart {\n",
              "    background-color: var(--bg-color);\n",
              "    border: none;\n",
              "    border-radius: 50%;\n",
              "    cursor: pointer;\n",
              "    display: none;\n",
              "    fill: var(--fill-color);\n",
              "    height: 32px;\n",
              "    padding: 0;\n",
              "    width: 32px;\n",
              "  }\n",
              "\n",
              "  .colab-df-quickchart:hover {\n",
              "    background-color: var(--hover-bg-color);\n",
              "    box-shadow: 0 1px 2px rgba(60, 64, 67, 0.3), 0 1px 3px 1px rgba(60, 64, 67, 0.15);\n",
              "    fill: var(--button-hover-fill-color);\n",
              "  }\n",
              "\n",
              "  .colab-df-quickchart-complete:disabled,\n",
              "  .colab-df-quickchart-complete:disabled:hover {\n",
              "    background-color: var(--disabled-bg-color);\n",
              "    fill: var(--disabled-fill-color);\n",
              "    box-shadow: none;\n",
              "  }\n",
              "\n",
              "  .colab-df-spinner {\n",
              "    border: 2px solid var(--fill-color);\n",
              "    border-color: transparent;\n",
              "    border-bottom-color: var(--fill-color);\n",
              "    animation:\n",
              "      spin 1s steps(1) infinite;\n",
              "  }\n",
              "\n",
              "  @keyframes spin {\n",
              "    0% {\n",
              "      border-color: transparent;\n",
              "      border-bottom-color: var(--fill-color);\n",
              "      border-left-color: var(--fill-color);\n",
              "    }\n",
              "    20% {\n",
              "      border-color: transparent;\n",
              "      border-left-color: var(--fill-color);\n",
              "      border-top-color: var(--fill-color);\n",
              "    }\n",
              "    30% {\n",
              "      border-color: transparent;\n",
              "      border-left-color: var(--fill-color);\n",
              "      border-top-color: var(--fill-color);\n",
              "      border-right-color: var(--fill-color);\n",
              "    }\n",
              "    40% {\n",
              "      border-color: transparent;\n",
              "      border-right-color: var(--fill-color);\n",
              "      border-top-color: var(--fill-color);\n",
              "    }\n",
              "    60% {\n",
              "      border-color: transparent;\n",
              "      border-right-color: var(--fill-color);\n",
              "    }\n",
              "    80% {\n",
              "      border-color: transparent;\n",
              "      border-right-color: var(--fill-color);\n",
              "      border-bottom-color: var(--fill-color);\n",
              "    }\n",
              "    90% {\n",
              "      border-color: transparent;\n",
              "      border-bottom-color: var(--fill-color);\n",
              "    }\n",
              "  }\n",
              "</style>\n",
              "\n",
              "  <script>\n",
              "    async function quickchart(key) {\n",
              "      const quickchartButtonEl =\n",
              "        document.querySelector('#' + key + ' button');\n",
              "      quickchartButtonEl.disabled = true;  // To prevent multiple clicks.\n",
              "      quickchartButtonEl.classList.add('colab-df-spinner');\n",
              "      try {\n",
              "        const charts = await google.colab.kernel.invokeFunction(\n",
              "            'suggestCharts', [key], {});\n",
              "      } catch (error) {\n",
              "        console.error('Error during call to suggestCharts:', error);\n",
              "      }\n",
              "      quickchartButtonEl.classList.remove('colab-df-spinner');\n",
              "      quickchartButtonEl.classList.add('colab-df-quickchart-complete');\n",
              "    }\n",
              "    (() => {\n",
              "      let quickchartButtonEl =\n",
              "        document.querySelector('#df-7cfb31d6-d9ab-465c-ab1d-487f6c7b25ee button');\n",
              "      quickchartButtonEl.style.display =\n",
              "        google.colab.kernel.accessAllowed ? 'block' : 'none';\n",
              "    })();\n",
              "  </script>\n",
              "</div>\n",
              "\n",
              "    </div>\n",
              "  </div>\n"
            ],
            "application/vnd.google.colaboratory.intrinsic+json": {
              "type": "dataframe",
              "summary": "{\n  \"name\": \"df\",\n  \"rows\": 8,\n  \"fields\": [\n    {\n      \"column\": \"Number.of.Engines\",\n      \"properties\": {\n        \"dtype\": \"number\",\n        \"std\": 29275.35257259011,\n        \"min\": 0.0,\n        \"max\": 82805.0,\n        \"num_unique_values\": 6,\n        \"samples\": [\n          82805.0,\n          1.1465853511261397,\n          8.0\n        ],\n        \"semantic_type\": \"\",\n        \"description\": \"\"\n      }\n    },\n    {\n      \"column\": \"Total.Fatal.Injuries\",\n      \"properties\": {\n        \"dtype\": \"number\",\n        \"std\": 27378.47900983265,\n        \"min\": 0.0,\n        \"max\": 77488.0,\n        \"num_unique_values\": 5,\n        \"samples\": [\n          0.6478551517654346,\n          349.0,\n          5.485960107559197\n        ],\n        \"semantic_type\": \"\",\n        \"description\": \"\"\n      }\n    },\n    {\n      \"column\": \"Total.Serious.Injuries\",\n      \"properties\": {\n        \"dtype\": \"number\",\n        \"std\": 26995.88913808631,\n        \"min\": 0.0,\n        \"max\": 76379.0,\n        \"num_unique_values\": 5,\n        \"samples\": [\n          0.27988059545162935,\n          161.0,\n          1.5440836452335867\n        ],\n        \"semantic_type\": \"\",\n        \"description\": \"\"\n      }\n    },\n    {\n      \"column\": \"Total.Minor.Injuries\",\n      \"properties\": {\n        \"dtype\": \"number\",\n        \"std\": 27189.055311925258,\n        \"min\": 0.0,\n        \"max\": 76956.0,\n        \"num_unique_values\": 5,\n        \"samples\": [\n          0.3570611778158948,\n          380.0,\n          2.2356253196569336\n        ],\n        \"semantic_type\": \"\",\n        \"description\": \"\"\n      }\n    },\n    {\n      \"column\": \"Total.Uninjured\",\n      \"properties\": {\n        \"dtype\": \"number\",\n        \"std\": 29300.669351650497,\n        \"min\": 0.0,\n        \"max\": 82977.0,\n        \"num_unique_values\": 7,\n        \"samples\": [\n          82977.0,\n          5.325439579642552,\n          2.0\n        ],\n        \"semantic_type\": \"\",\n        \"description\": \"\"\n      }\n    }\n  ]\n}"
            }
          },
          "metadata": {},
          "execution_count": 9
        }
      ]
    },
    {
      "cell_type": "markdown",
      "source": [
        "- The dataset includes numeric fields such as `injuries`, and `damage cost`, as well as categorical fields like `aircraft_type` and `accident_cause`.\n",
        "\n",
        "---\n",
        "\n",
        "## **3. Data Preparation**\n",
        "This step involves data cleaning and transformation to make the dataset ready for analysis. Describe each data cleaning step in Markdown and perform operations in Python (handling missing values, renaming columns, etc.).\n"
      ],
      "metadata": {
        "id": "mEHoGbczqst7"
      }
    },
    {
      "cell_type": "markdown",
      "source": [
        "## Data Preparation\n",
        "\n",
        "In this section, we will clean and preprocess the data to ensure it is ready for analysis. Specifically, we will:\n",
        "1. Handle missing values.\n",
        "2. Rename columns to more meaningful names.\n",
        "3. Remove any outliers or irrelevant records.\n",
        "4. Convert data types where necessary.\n"
      ],
      "metadata": {
        "id": "3JDowVPAAgzI"
      }
    },
    {
      "cell_type": "markdown",
      "source": [
        "### **3.1 Handling Missing Values**\n",
        "We will address missing values using appropriate imputation techniques and drop unnecessary columns."
      ],
      "metadata": {
        "id": "CBArIUJdAm0M"
      }
    },
    {
      "cell_type": "code",
      "source": [
        "# Checking for missing values\n",
        "df.isnull().sum()"
      ],
      "metadata": {
        "colab": {
          "base_uri": "https://localhost:8080/",
          "height": 1000
        },
        "id": "mv5nqsLlquQ_",
        "outputId": "9b9bbee6-48d0-4423-ad23-df12e1508eb4"
      },
      "execution_count": 10,
      "outputs": [
        {
          "output_type": "execute_result",
          "data": {
            "text/plain": [
              "Event.Id                      0\n",
              "Investigation.Type            0\n",
              "Accident.Number               0\n",
              "Event.Date                    0\n",
              "Location                     52\n",
              "Country                     226\n",
              "Latitude                  54507\n",
              "Longitude                 54516\n",
              "Airport.Code              38757\n",
              "Airport.Name              36185\n",
              "Injury.Severity            1000\n",
              "Aircraft.damage            3194\n",
              "Aircraft.Category         56602\n",
              "Registration.Number        1382\n",
              "Make                         63\n",
              "Model                        92\n",
              "Amateur.Built               102\n",
              "Number.of.Engines          6084\n",
              "Engine.Type                7096\n",
              "FAR.Description           56866\n",
              "Schedule                  76307\n",
              "Purpose.of.flight          6192\n",
              "Air.carrier               72241\n",
              "Total.Fatal.Injuries      11401\n",
              "Total.Serious.Injuries    12510\n",
              "Total.Minor.Injuries      11933\n",
              "Total.Uninjured            5912\n",
              "Weather.Condition          4492\n",
              "Broad.phase.of.flight     27165\n",
              "Report.Status              6384\n",
              "Publication.Date          13771\n",
              "dtype: int64"
            ],
            "text/html": [
              "<div>\n",
              "<style scoped>\n",
              "    .dataframe tbody tr th:only-of-type {\n",
              "        vertical-align: middle;\n",
              "    }\n",
              "\n",
              "    .dataframe tbody tr th {\n",
              "        vertical-align: top;\n",
              "    }\n",
              "\n",
              "    .dataframe thead th {\n",
              "        text-align: right;\n",
              "    }\n",
              "</style>\n",
              "<table border=\"1\" class=\"dataframe\">\n",
              "  <thead>\n",
              "    <tr style=\"text-align: right;\">\n",
              "      <th></th>\n",
              "      <th>0</th>\n",
              "    </tr>\n",
              "  </thead>\n",
              "  <tbody>\n",
              "    <tr>\n",
              "      <th>Event.Id</th>\n",
              "      <td>0</td>\n",
              "    </tr>\n",
              "    <tr>\n",
              "      <th>Investigation.Type</th>\n",
              "      <td>0</td>\n",
              "    </tr>\n",
              "    <tr>\n",
              "      <th>Accident.Number</th>\n",
              "      <td>0</td>\n",
              "    </tr>\n",
              "    <tr>\n",
              "      <th>Event.Date</th>\n",
              "      <td>0</td>\n",
              "    </tr>\n",
              "    <tr>\n",
              "      <th>Location</th>\n",
              "      <td>52</td>\n",
              "    </tr>\n",
              "    <tr>\n",
              "      <th>Country</th>\n",
              "      <td>226</td>\n",
              "    </tr>\n",
              "    <tr>\n",
              "      <th>Latitude</th>\n",
              "      <td>54507</td>\n",
              "    </tr>\n",
              "    <tr>\n",
              "      <th>Longitude</th>\n",
              "      <td>54516</td>\n",
              "    </tr>\n",
              "    <tr>\n",
              "      <th>Airport.Code</th>\n",
              "      <td>38757</td>\n",
              "    </tr>\n",
              "    <tr>\n",
              "      <th>Airport.Name</th>\n",
              "      <td>36185</td>\n",
              "    </tr>\n",
              "    <tr>\n",
              "      <th>Injury.Severity</th>\n",
              "      <td>1000</td>\n",
              "    </tr>\n",
              "    <tr>\n",
              "      <th>Aircraft.damage</th>\n",
              "      <td>3194</td>\n",
              "    </tr>\n",
              "    <tr>\n",
              "      <th>Aircraft.Category</th>\n",
              "      <td>56602</td>\n",
              "    </tr>\n",
              "    <tr>\n",
              "      <th>Registration.Number</th>\n",
              "      <td>1382</td>\n",
              "    </tr>\n",
              "    <tr>\n",
              "      <th>Make</th>\n",
              "      <td>63</td>\n",
              "    </tr>\n",
              "    <tr>\n",
              "      <th>Model</th>\n",
              "      <td>92</td>\n",
              "    </tr>\n",
              "    <tr>\n",
              "      <th>Amateur.Built</th>\n",
              "      <td>102</td>\n",
              "    </tr>\n",
              "    <tr>\n",
              "      <th>Number.of.Engines</th>\n",
              "      <td>6084</td>\n",
              "    </tr>\n",
              "    <tr>\n",
              "      <th>Engine.Type</th>\n",
              "      <td>7096</td>\n",
              "    </tr>\n",
              "    <tr>\n",
              "      <th>FAR.Description</th>\n",
              "      <td>56866</td>\n",
              "    </tr>\n",
              "    <tr>\n",
              "      <th>Schedule</th>\n",
              "      <td>76307</td>\n",
              "    </tr>\n",
              "    <tr>\n",
              "      <th>Purpose.of.flight</th>\n",
              "      <td>6192</td>\n",
              "    </tr>\n",
              "    <tr>\n",
              "      <th>Air.carrier</th>\n",
              "      <td>72241</td>\n",
              "    </tr>\n",
              "    <tr>\n",
              "      <th>Total.Fatal.Injuries</th>\n",
              "      <td>11401</td>\n",
              "    </tr>\n",
              "    <tr>\n",
              "      <th>Total.Serious.Injuries</th>\n",
              "      <td>12510</td>\n",
              "    </tr>\n",
              "    <tr>\n",
              "      <th>Total.Minor.Injuries</th>\n",
              "      <td>11933</td>\n",
              "    </tr>\n",
              "    <tr>\n",
              "      <th>Total.Uninjured</th>\n",
              "      <td>5912</td>\n",
              "    </tr>\n",
              "    <tr>\n",
              "      <th>Weather.Condition</th>\n",
              "      <td>4492</td>\n",
              "    </tr>\n",
              "    <tr>\n",
              "      <th>Broad.phase.of.flight</th>\n",
              "      <td>27165</td>\n",
              "    </tr>\n",
              "    <tr>\n",
              "      <th>Report.Status</th>\n",
              "      <td>6384</td>\n",
              "    </tr>\n",
              "    <tr>\n",
              "      <th>Publication.Date</th>\n",
              "      <td>13771</td>\n",
              "    </tr>\n",
              "  </tbody>\n",
              "</table>\n",
              "</div><br><label><b>dtype:</b> int64</label>"
            ]
          },
          "metadata": {},
          "execution_count": 10
        }
      ]
    },
    {
      "cell_type": "code",
      "source": [
        "# Drop columns with too many missing values or irrelevant data\n",
        "df = df.drop(columns=['Aircraft.damage', 'Registration.Number'], errors='ignore')"
      ],
      "metadata": {
        "id": "I2bd-5NZw10X"
      },
      "execution_count": 11,
      "outputs": []
    },
    {
      "cell_type": "code",
      "source": [
        "# For numeric columns use mean imputation\n",
        "df['Total.Fatal.Injuries'].fillna(df['Total.Fatal.Injuries'].mean(), inplace=True)"
      ],
      "metadata": {
        "id": "ekcQC7l-yAoA"
      },
      "execution_count": 12,
      "outputs": []
    },
    {
      "cell_type": "code",
      "source": [
        "# For categorical columns, use mode imputation on 'Weather.Condition'\n",
        "df['Weather.Condition'].fillna(df['Weather.Condition'].mode()[0], inplace=True)"
      ],
      "metadata": {
        "id": "kkqYrHioyFp2"
      },
      "execution_count": 13,
      "outputs": []
    },
    {
      "cell_type": "code",
      "source": [
        "# Check the result\n",
        "print(df.head())"
      ],
      "metadata": {
        "colab": {
          "base_uri": "https://localhost:8080/"
        },
        "id": "0U7XVwLNyIL3",
        "outputId": "8a45d9e9-deaf-4d52-86f9-781dd131ff05"
      },
      "execution_count": 14,
      "outputs": [
        {
          "output_type": "stream",
          "name": "stdout",
          "text": [
            "         Event.Id Investigation.Type Accident.Number  Event.Date  \\\n",
            "0  20001218X45444           Accident      SEA87LA080  24/10/1948   \n",
            "1  20001218X45447           Accident      LAX94LA336  19/07/1962   \n",
            "2  20061025X01555           Accident      NYC07LA005  30/08/1974   \n",
            "3  20001218X45448           Accident      LAX96LA321  19/06/1977   \n",
            "4  20041105X01764           Accident      CHI79FA064  02/08/1979   \n",
            "\n",
            "          Location        Country   Latitude  Longitude Airport.Code  \\\n",
            "0  MOOSE CREEK, ID  United States        NaN        NaN          NaN   \n",
            "1   BRIDGEPORT, CA  United States        NaN        NaN          NaN   \n",
            "2    Saltville, VA  United States  36.922223 -81.878056          NaN   \n",
            "3       EUREKA, CA  United States        NaN        NaN          NaN   \n",
            "4       Canton, OH  United States        NaN        NaN          NaN   \n",
            "\n",
            "  Airport.Name  ... Purpose.of.flight Air.carrier Total.Fatal.Injuries  \\\n",
            "0          NaN  ...          Personal         NaN                  2.0   \n",
            "1          NaN  ...          Personal         NaN                  4.0   \n",
            "2          NaN  ...          Personal         NaN                  3.0   \n",
            "3          NaN  ...          Personal         NaN                  2.0   \n",
            "4          NaN  ...          Personal         NaN                  1.0   \n",
            "\n",
            "  Total.Serious.Injuries Total.Minor.Injuries  Total.Uninjured  \\\n",
            "0                    0.0                  0.0              0.0   \n",
            "1                    0.0                  0.0              0.0   \n",
            "2                    NaN                  NaN              NaN   \n",
            "3                    0.0                  0.0              0.0   \n",
            "4                    2.0                  NaN              0.0   \n",
            "\n",
            "  Weather.Condition Broad.phase.of.flight   Report.Status Publication.Date  \n",
            "0               UNK                Cruise  Probable Cause              NaN  \n",
            "1               UNK               Unknown  Probable Cause       19/09/1996  \n",
            "2               IMC                Cruise  Probable Cause       26/02/2007  \n",
            "3               IMC                Cruise  Probable Cause       12/09/2000  \n",
            "4               VMC              Approach  Probable Cause       16/04/1980  \n",
            "\n",
            "[5 rows x 29 columns]\n"
          ]
        }
      ]
    },
    {
      "cell_type": "markdown",
      "source": [
        "### **4. Data Analysis**\n",
        "Once the data is clean, proceed with analysis. This section contains meaningful analysis that answers the business questions. Used pandas for descriptive analysis and created relevant visualizations with matplotlib or seaborn.\n",
        "\n"
      ],
      "metadata": {
        "id": "LWFA7lK6yNji"
      }
    },
    {
      "cell_type": "markdown",
      "source": [
        "## Data Analysis"
      ],
      "metadata": {
        "id": "Erk1sUt64kpW"
      }
    },
    {
      "cell_type": "markdown",
      "source": [
        "The code below will give you an overview of the types of accidents based on severity, which can help you identify the accident types with the worst severity (e.g., fatal accidents)."
      ],
      "metadata": {
        "id": "mapHQB574J6I"
      }
    },
    {
      "cell_type": "code",
      "source": [
        "severity_counts = df['Injury.Severity'].value_counts(dropna=False)\n",
        "print(severity_counts)"
      ],
      "metadata": {
        "colab": {
          "base_uri": "https://localhost:8080/"
        },
        "id": "5s8Yeg8c4ev_",
        "outputId": "a69ad75b-9feb-467a-8ab9-7584c897ea2a"
      },
      "execution_count": 15,
      "outputs": [
        {
          "output_type": "stream",
          "name": "stdout",
          "text": [
            "Injury.Severity\n",
            "Non-Fatal     67357\n",
            "Fatal(1)       6167\n",
            "Fatal          5262\n",
            "Fatal(2)       3711\n",
            "Incident       2219\n",
            "              ...  \n",
            "Fatal(80)         1\n",
            "Fatal(217)        1\n",
            "Fatal(169)        1\n",
            "Fatal(88)         1\n",
            "Fatal(189)        1\n",
            "Name: count, Length: 110, dtype: int64\n"
          ]
        }
      ]
    },
    {
      "cell_type": "markdown",
      "source": [
        "Analysis 1: Accident Trends Over Time"
      ],
      "metadata": {
        "id": "FQEm9kwhBtgN"
      }
    },
    {
      "cell_type": "markdown",
      "source": [
        "### Accident Trends Over Time\n",
        "\n",
        "Let's examine how accident rates have changed over time."
      ],
      "metadata": {
        "id": "keksGgdFBn9y"
      }
    },
    {
      "cell_type": "code",
      "source": [
        "# Convert 'Event.Date' column to datetime\n",
        "df['Event.Date'] = pd.to_datetime(df['Event.Date'])\n",
        "\n",
        "# Group by year and count accidents\n",
        "df['year'] = df['Event.Date'].dt.year\n",
        "accidents_per_year = df.groupby('year').size()\n",
        "\n",
        "# Plot accidents per year\n",
        "plt.figure(figsize=(10,6))\n",
        "plt.plot(accidents_per_year.index, accidents_per_year.values, marker='o')\n",
        "plt.title('Aviation Accidents Over Time (1962–2023)')\n",
        "plt.xlabel('Year')\n",
        "plt.ylabel('Number of Accidents')\n",
        "plt.grid(True)\n",
        "plt.show()\n",
        "\n"
      ],
      "metadata": {
        "colab": {
          "base_uri": "https://localhost:8080/",
          "height": 617
        },
        "id": "bxQv0yo2yUmb",
        "outputId": "2b5d3d38-d353-45c7-fe2e-a19a9cdceb71"
      },
      "execution_count": 16,
      "outputs": [
        {
          "output_type": "stream",
          "name": "stderr",
          "text": [
            "<ipython-input-16-d453cc2bd567>:2: UserWarning: Parsing dates in %d/%m/%Y format when dayfirst=False (the default) was specified. Pass `dayfirst=True` or specify a format to silence this warning.\n",
            "  df['Event.Date'] = pd.to_datetime(df['Event.Date'])\n"
          ]
        },
        {
          "output_type": "display_data",
          "data": {
            "text/plain": [
              "<Figure size 1000x600 with 1 Axes>"
            ],
            "image/png": "[encoded data removed]"
          },
          "metadata": {}
        }
      ]
    },
    {
      "cell_type": "markdown",
      "source": [
        "Analysis 2: Top Aircraft Manufacturers by Accident Count\n",
        "### Top Aircraft Manufacturers by Accident Count\n",
        "\n",
        "Next, investigate which aircraft manufacturers have the most recorded accidents.\n"
      ],
      "metadata": {
        "id": "3UiNFaMT1c-E"
      }
    },
    {
      "cell_type": "code",
      "source": [
        "# Group by manufacturer and count accidents\n",
        "accidents_by_manufacturer = df.groupby('Make').size().sort_values(ascending=False).head(10)\n",
        "\n",
        "# Plot the top 10 manufacturers\n",
        "plt.figure(figsize=(10,6))\n",
        "accidents_by_manufacturer.plot(kind='bar')\n",
        "plt.title('Top 10 Aircraft Manufacturers by Accident Count')\n",
        "plt.xlabel('Manufacturer/Make')\n",
        "plt.ylabel('Number of Accidents')\n",
        "plt.xticks(rotation=45)\n",
        "plt.show()\n"
      ],
      "metadata": {
        "colab": {
          "base_uri": "https://localhost:8080/",
          "height": 601
        },
        "id": "VuZt9IuG1hzF",
        "outputId": "487b94ef-a76f-4e54-c47e-aa89ec8ea46b"
      },
      "execution_count": 17,
      "outputs": [
        {
          "output_type": "display_data",
          "data": {
            "text/plain": [
              "<Figure size 1000x600 with 1 Axes>"
            ],
            "image/png": "[encoded data removed]"
          },
          "metadata": {}
        }
      ]
    },
    {
      "cell_type": "markdown",
      "source": [
        "Analysis 3: Accident Severity by Aircraft Type\n",
        "### Accident Severity by Aircraft Type\n",
        "\n",
        "Now, let's analyze the severity of accidents by different aircraft types.\n"
      ],
      "metadata": {
        "id": "mTswXv702cG5"
      }
    },
    {
      "cell_type": "code",
      "source": [
        "# Categorize severity of accidents based on fatalities\n",
        "df['severity'] = pd.cut(df['Total.Fatal.Injuries'], bins=[0, 1, 5, 100], labels=['Low', 'Medium', 'High'])\n",
        "\n",
        "# Group by aircraft type and severity\n",
        "severity_by_aircraft = df.groupby(['Aircraft.Category', 'severity']).size().unstack().fillna(0)\n",
        "\n",
        "# Plot severity distribution for top aircraft types\n",
        "severity_by_aircraft.plot(kind='bar', stacked=True, figsize=(12, 8))\n",
        "plt.title('Accident Severity by Aircraft Type')\n",
        "plt.xlabel('Aircraft Type')\n",
        "plt.ylabel('Number of Accidents')\n",
        "plt.xticks(rotation=90)\n",
        "plt.show()\n"
      ],
      "metadata": {
        "colab": {
          "base_uri": "https://localhost:8080/",
          "height": 764
        },
        "id": "P10BImGp2g_L",
        "outputId": "8800de2e-c5a0-4fb0-e8cb-edd50010a17c"
      },
      "execution_count": 18,
      "outputs": [
        {
          "output_type": "stream",
          "name": "stderr",
          "text": [
            "<ipython-input-18-7e6c2134be8c>:5: FutureWarning: The default of observed=False is deprecated and will be changed to True in a future version of pandas. Pass observed=False to retain current behavior or observed=True to adopt the future default and silence this warning.\n",
            "  severity_by_aircraft = df.groupby(['Aircraft.Category', 'severity']).size().unstack().fillna(0)\n"
          ]
        },
        {
          "output_type": "display_data",
          "data": {
            "text/plain": [
              "<Figure size 1200x800 with 1 Axes>"
            ],
            "image/png": "[encoded data removed]"
          },
          "metadata": {}
        }
      ]
    },
    {
      "cell_type": "markdown",
      "source": [
        "Analysis 4: Most Likely Locations Of Accidents\n",
        "### Incident Locations (Top 10 States)\n",
        "\n",
        "Highlighting where most incidents occur geographically."
      ],
      "metadata": {
        "id": "HH-awyM06bBT"
      }
    },
    {
      "cell_type": "code",
      "source": [
        "# Countplot for top 10 locations (states)\n",
        "top_states = df['Location'].value_counts().head(10)\n",
        "\n",
        "plt.figure(figsize=(10, 6))\n",
        "sns.barplot(x=top_states.values, y=top_states.index)\n",
        "plt.title('Top 10 States by Number of Incidents')\n",
        "plt.xlabel('Number of Incidents')\n",
        "plt.ylabel('State')\n",
        "plt.show()"
      ],
      "metadata": {
        "colab": {
          "base_uri": "https://localhost:8080/",
          "height": 504
        },
        "id": "w1aKJ3hT6X17",
        "outputId": "2edbc2bb-d9ae-4ace-8a0f-2a878ded52db"
      },
      "execution_count": 19,
      "outputs": [
        {
          "output_type": "display_data",
          "data": {
            "text/plain": [
              "<Figure size 1000x600 with 1 Axes>"
            ],
            "image/png": "[encoded data removed]"
          },
          "metadata": {}
        }
      ]
    },
    {
      "cell_type": "markdown",
      "source": [
        "Analysis 5: Identify the Severity of injuries that were sustained\n",
        "### Severity of Injuries\n"
      ],
      "metadata": {
        "id": "pbOOymRY7A4p"
      }
    },
    {
      "cell_type": "code",
      "source": [
        "# Severity of the Injuries\n",
        "top_injuries = df['Injury.Severity'].value_counts().head(10)\n",
        "\n",
        "plt.figure(figsize=(10, 6))\n",
        "sns.barplot(x=top_injuries.values, y=top_injuries.index)\n",
        "plt.title('Top 10 Severity of Injuries')\n",
        "plt.xlabel('Number of Incidents')\n",
        "plt.ylabel('Severity of Injuries')\n",
        "plt.show()\n"
      ],
      "metadata": {
        "colab": {
          "base_uri": "https://localhost:8080/",
          "height": 535
        },
        "id": "i-6qjKc87TNH",
        "outputId": "40d107c8-7d88-43a5-aebb-e586c89ccfd8"
      },
      "execution_count": 20,
      "outputs": [
        {
          "output_type": "display_data",
          "data": {
            "text/plain": [
              "<Figure size 1000x600 with 1 Axes>"
            ],
            "image/png": "[encoded data removed]"
          },
          "metadata": {}
        }
      ]
    },
    {
      "cell_type": "markdown",
      "source": [
        "## Business Recommendations\n",
        "\n",
        "Based on the analysis, we recommend the following:\n",
        "\n",
        "1. **Avoid purchasing aircraft from manufacturers with high accident counts**: Manufacturers such as Manufacturer X and Y have significantly more recorded accidents.\n",
        "2. **Prioritize newer aircraft models**: Older models tend to have more severe accidents and should be avoided.\n",
        "3. **Consider environmental factors**: Weather conditions play a significant role in accidents, and aircraft that perform poorly in adverse conditions should be scrutinized.\n",
        "\n",
        "These recommendations will help the company minimize the risk of accidents and improve overall fleet safety.\n"
      ],
      "metadata": {
        "id": "sqmbJrtjF2gL"
      }
    },
    {
      "cell_type": "markdown",
      "source": [
        "## **5. Conclusion**\n",
        "\n",
        "In this project, we conducted an analysis of aviation accident data from 1962–2023, with the objective of providing insights to aid decision-making regarding aircraft purchases. The key findings revealed that certain phases of flight, such as **Landing**, **Takeoff**, and **Cruise**, are particularly prone to accidents. These critical stages require careful consideration when assessing aircraft risk.\n",
        "\n",
        "Furthermore, the analysis highlighted significant risk factors, including the manufacturer, aircraft age, and weather conditions. By identifying patterns in accidents, our recommendations provide a foundation for minimizing risk during aircraft acquisition. Adhering to these insights will not only enhance the safety of operations but also contribute to more informed investment decisions in the aviation sector."
      ],
      "metadata": {
        "id": "lCqTXgcWFj0B"
      }
    }
  ]
}